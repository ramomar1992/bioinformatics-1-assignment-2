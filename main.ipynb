{
 "cells": [
  {
   "cell_type": "code",
   "execution_count": 68,
   "metadata": {},
   "outputs": [],
   "source": [
    "import GEOparse\n",
    "import pandas as pd\n",
    "import numpy as np\n",
    "import matplotlib.pyplot as plt"
   ]
  },
  {
   "cell_type": "code",
   "execution_count": 59,
   "metadata": {},
   "outputs": [
    {
     "name": "stderr",
     "output_type": "stream",
     "text": [
      "12-Apr-2022 07:20:06 DEBUG utils - Directory ./ already exists. Skipping.\n",
      "12-Apr-2022 07:20:06 INFO GEOparse - File already exist: using local version.\n",
      "12-Apr-2022 07:20:06 INFO GEOparse - Parsing ./GSE22552_family.soft.gz: \n",
      "12-Apr-2022 07:20:06 DEBUG GEOparse - DATABASE: GeoMiame\n",
      "12-Apr-2022 07:20:06 DEBUG GEOparse - SERIES: GSE22552\n",
      "12-Apr-2022 07:20:06 DEBUG GEOparse - PLATFORM: GPL570\n",
      "/Library/Frameworks/Python.framework/Versions/3.10/lib/python3.10/site-packages/GEOparse/GEOparse.py:401: DtypeWarning: Columns (2) have mixed types. Specify dtype option on import or set low_memory=False.\n",
      "  return read_csv(StringIO(data), index_col=None, sep=\"\\t\")\n",
      "12-Apr-2022 07:20:06 DEBUG GEOparse - SAMPLE: GSM559689\n",
      "12-Apr-2022 07:20:06 DEBUG GEOparse - SAMPLE: GSM559690\n",
      "12-Apr-2022 07:20:06 DEBUG GEOparse - SAMPLE: GSM559691\n",
      "12-Apr-2022 07:20:07 DEBUG GEOparse - SAMPLE: GSM559692\n",
      "12-Apr-2022 07:20:07 DEBUG GEOparse - SAMPLE: GSM559693\n",
      "12-Apr-2022 07:20:07 DEBUG GEOparse - SAMPLE: GSM559694\n",
      "12-Apr-2022 07:20:07 DEBUG GEOparse - SAMPLE: GSM559695\n",
      "12-Apr-2022 07:20:07 DEBUG GEOparse - SAMPLE: GSM559696\n",
      "12-Apr-2022 07:20:07 DEBUG GEOparse - SAMPLE: GSM559697\n",
      "12-Apr-2022 07:20:07 DEBUG GEOparse - SAMPLE: GSM559698\n",
      "12-Apr-2022 07:20:07 DEBUG GEOparse - SAMPLE: GSM559699\n",
      "12-Apr-2022 07:20:07 DEBUG GEOparse - SAMPLE: GSM559700\n",
      "12-Apr-2022 07:20:07 DEBUG GEOparse - SAMPLE: GSM559701\n",
      "12-Apr-2022 07:20:07 DEBUG GEOparse - SAMPLE: GSM559702\n",
      "12-Apr-2022 07:20:07 DEBUG GEOparse - SAMPLE: GSM559703\n",
      "12-Apr-2022 07:20:07 DEBUG GEOparse - SAMPLE: GSM559704\n"
     ]
    }
   ],
   "source": [
    "gse = GEOparse.get_GEO(geo=\"GSE22552\")\n"
   ]
  },
  {
   "cell_type": "code",
   "execution_count": 60,
   "metadata": {},
   "outputs": [],
   "source": [
    "dataframes = []\n",
    "for key, val in gse.gsms.items():\n",
    "  table = val.table.set_index(\"ID_REF\").rename(columns={\"VALUE\": key})\n",
    "  dataframes.append(table)\n",
    "  \n",
    "data = pd.concat(dataframes, axis=1)\n",
    "\n",
    "genes_comprehensible_data = gse.gpls[\"GPL570\"].table.rename(columns={\"ID\": \"ID_REF\"}).set_index('ID_REF').loc[: , ('Gene Symbol', 'ENTREZ_GENE_ID')]\n",
    "\n",
    "merged_dataframes = pd.merge(left=genes_comprehensible_data, right=data, left_index=True, right_index=True)\n",
    "\n",
    "def remove_trailing_slashes(col):\n",
    "  arr = np.array(col)\n",
    "  return [str(gene).split('/')[0] for gene in arr]\n",
    "  \n",
    "refined_gpl = genes_comprehensible_data[['Gene Symbol', 'ENTREZ_GENE_ID']].apply(remove_trailing_slashes)\n",
    "\n",
    "refined_merged_dataframe = pd.merge(left=refined_gpl, right=data, left_index=True, right_index=True).reset_index().set_index(['ID_REF','Gene Symbol', 'ENTREZ_GENE_ID'])"
   ]
  },
  {
   "cell_type": "code",
   "execution_count": 86,
   "metadata": {},
   "outputs": [
    {
     "data": {
      "text/html": [
       "<div>\n",
       "<style scoped>\n",
       "    .dataframe tbody tr th:only-of-type {\n",
       "        vertical-align: middle;\n",
       "    }\n",
       "\n",
       "    .dataframe tbody tr th {\n",
       "        vertical-align: top;\n",
       "    }\n",
       "\n",
       "    .dataframe thead th {\n",
       "        text-align: right;\n",
       "    }\n",
       "</style>\n",
       "<table border=\"1\" class=\"dataframe\">\n",
       "  <thead>\n",
       "    <tr style=\"text-align: right;\">\n",
       "      <th></th>\n",
       "      <th></th>\n",
       "      <th></th>\n",
       "      <th>GSM559689</th>\n",
       "      <th>GSM559690</th>\n",
       "      <th>GSM559691</th>\n",
       "      <th>GSM559692</th>\n",
       "      <th>GSM559693</th>\n",
       "      <th>GSM559694</th>\n",
       "      <th>GSM559695</th>\n",
       "      <th>GSM559696</th>\n",
       "      <th>GSM559697</th>\n",
       "      <th>GSM559698</th>\n",
       "      <th>GSM559699</th>\n",
       "      <th>GSM559700</th>\n",
       "    </tr>\n",
       "    <tr>\n",
       "      <th>ID_REF</th>\n",
       "      <th>Gene Symbol</th>\n",
       "      <th>ENTREZ_GENE_ID</th>\n",
       "      <th></th>\n",
       "      <th></th>\n",
       "      <th></th>\n",
       "      <th></th>\n",
       "      <th></th>\n",
       "      <th></th>\n",
       "      <th></th>\n",
       "      <th></th>\n",
       "      <th></th>\n",
       "      <th></th>\n",
       "      <th></th>\n",
       "      <th></th>\n",
       "    </tr>\n",
       "  </thead>\n",
       "  <tbody>\n",
       "    <tr>\n",
       "      <th>1007_s_at</th>\n",
       "      <th>DDR1</th>\n",
       "      <th>780</th>\n",
       "      <td>4.946777</td>\n",
       "      <td>4.728418</td>\n",
       "      <td>4.738051</td>\n",
       "      <td>4.762729</td>\n",
       "      <td>4.549447</td>\n",
       "      <td>4.835533</td>\n",
       "      <td>4.709747</td>\n",
       "      <td>4.715527</td>\n",
       "      <td>5.049346</td>\n",
       "      <td>5.631210</td>\n",
       "      <td>5.379607</td>\n",
       "      <td>5.397816</td>\n",
       "    </tr>\n",
       "    <tr>\n",
       "      <th>1053_at</th>\n",
       "      <th>RFC2</th>\n",
       "      <th>5982</th>\n",
       "      <td>8.207308</td>\n",
       "      <td>8.695805</td>\n",
       "      <td>8.383330</td>\n",
       "      <td>8.049325</td>\n",
       "      <td>8.751171</td>\n",
       "      <td>8.381886</td>\n",
       "      <td>7.992828</td>\n",
       "      <td>7.998183</td>\n",
       "      <td>7.401185</td>\n",
       "      <td>5.444929</td>\n",
       "      <td>5.151547</td>\n",
       "      <td>5.207811</td>\n",
       "    </tr>\n",
       "    <tr>\n",
       "      <th>117_at</th>\n",
       "      <th>HSPA6</th>\n",
       "      <th>3310</th>\n",
       "      <td>6.311369</td>\n",
       "      <td>5.249919</td>\n",
       "      <td>5.953954</td>\n",
       "      <td>5.532214</td>\n",
       "      <td>5.746198</td>\n",
       "      <td>6.212243</td>\n",
       "      <td>6.870430</td>\n",
       "      <td>7.032106</td>\n",
       "      <td>7.295045</td>\n",
       "      <td>7.667298</td>\n",
       "      <td>7.784505</td>\n",
       "      <td>8.278446</td>\n",
       "    </tr>\n",
       "    <tr>\n",
       "      <th>121_at</th>\n",
       "      <th>PAX8</th>\n",
       "      <th>7849</th>\n",
       "      <td>7.159099</td>\n",
       "      <td>7.062484</td>\n",
       "      <td>7.329124</td>\n",
       "      <td>7.294014</td>\n",
       "      <td>7.006325</td>\n",
       "      <td>7.283475</td>\n",
       "      <td>7.156998</td>\n",
       "      <td>7.201767</td>\n",
       "      <td>7.397696</td>\n",
       "      <td>7.543862</td>\n",
       "      <td>7.869274</td>\n",
       "      <td>7.897521</td>\n",
       "    </tr>\n",
       "    <tr>\n",
       "      <th>1255_g_at</th>\n",
       "      <th>GUCA1A</th>\n",
       "      <th>2978</th>\n",
       "      <td>3.821799</td>\n",
       "      <td>3.603829</td>\n",
       "      <td>3.691750</td>\n",
       "      <td>3.791226</td>\n",
       "      <td>3.654054</td>\n",
       "      <td>3.681459</td>\n",
       "      <td>4.896534</td>\n",
       "      <td>4.008463</td>\n",
       "      <td>4.508532</td>\n",
       "      <td>4.946233</td>\n",
       "      <td>3.765626</td>\n",
       "      <td>4.096830</td>\n",
       "    </tr>\n",
       "    <tr>\n",
       "      <th>...</th>\n",
       "      <th>...</th>\n",
       "      <th>...</th>\n",
       "      <td>...</td>\n",
       "      <td>...</td>\n",
       "      <td>...</td>\n",
       "      <td>...</td>\n",
       "      <td>...</td>\n",
       "      <td>...</td>\n",
       "      <td>...</td>\n",
       "      <td>...</td>\n",
       "      <td>...</td>\n",
       "      <td>...</td>\n",
       "      <td>...</td>\n",
       "      <td>...</td>\n",
       "    </tr>\n",
       "    <tr>\n",
       "      <th>AFFX-ThrX-5_at</th>\n",
       "      <th>nan</th>\n",
       "      <th>nan</th>\n",
       "      <td>5.624310</td>\n",
       "      <td>5.326154</td>\n",
       "      <td>5.588887</td>\n",
       "      <td>4.996499</td>\n",
       "      <td>5.471355</td>\n",
       "      <td>5.893110</td>\n",
       "      <td>5.743403</td>\n",
       "      <td>5.517842</td>\n",
       "      <td>6.319863</td>\n",
       "      <td>6.153024</td>\n",
       "      <td>6.339153</td>\n",
       "      <td>6.779153</td>\n",
       "    </tr>\n",
       "    <tr>\n",
       "      <th>AFFX-ThrX-M_at</th>\n",
       "      <th>nan</th>\n",
       "      <th>nan</th>\n",
       "      <td>6.589780</td>\n",
       "      <td>7.078883</td>\n",
       "      <td>7.219033</td>\n",
       "      <td>6.143109</td>\n",
       "      <td>6.954125</td>\n",
       "      <td>7.585613</td>\n",
       "      <td>7.354877</td>\n",
       "      <td>7.337199</td>\n",
       "      <td>8.222956</td>\n",
       "      <td>7.808429</td>\n",
       "      <td>8.113187</td>\n",
       "      <td>8.420713</td>\n",
       "    </tr>\n",
       "    <tr>\n",
       "      <th>AFFX-TrpnX-3_at</th>\n",
       "      <th>nan</th>\n",
       "      <th>nan</th>\n",
       "      <td>3.267483</td>\n",
       "      <td>3.231707</td>\n",
       "      <td>3.019570</td>\n",
       "      <td>3.382046</td>\n",
       "      <td>3.186596</td>\n",
       "      <td>3.207259</td>\n",
       "      <td>3.246196</td>\n",
       "      <td>3.197220</td>\n",
       "      <td>3.210587</td>\n",
       "      <td>3.385809</td>\n",
       "      <td>3.295025</td>\n",
       "      <td>3.326088</td>\n",
       "    </tr>\n",
       "    <tr>\n",
       "      <th>AFFX-TrpnX-5_at</th>\n",
       "      <th>nan</th>\n",
       "      <th>nan</th>\n",
       "      <td>4.053787</td>\n",
       "      <td>3.987323</td>\n",
       "      <td>4.081677</td>\n",
       "      <td>4.059533</td>\n",
       "      <td>4.066915</td>\n",
       "      <td>3.950469</td>\n",
       "      <td>4.126612</td>\n",
       "      <td>4.085597</td>\n",
       "      <td>4.139731</td>\n",
       "      <td>4.164160</td>\n",
       "      <td>4.489268</td>\n",
       "      <td>4.432901</td>\n",
       "    </tr>\n",
       "    <tr>\n",
       "      <th>AFFX-TrpnX-M_at</th>\n",
       "      <th>nan</th>\n",
       "      <th>nan</th>\n",
       "      <td>3.876738</td>\n",
       "      <td>3.476774</td>\n",
       "      <td>3.556572</td>\n",
       "      <td>3.442913</td>\n",
       "      <td>3.548527</td>\n",
       "      <td>3.620951</td>\n",
       "      <td>3.484449</td>\n",
       "      <td>3.488594</td>\n",
       "      <td>3.539413</td>\n",
       "      <td>3.503881</td>\n",
       "      <td>3.897671</td>\n",
       "      <td>3.607952</td>\n",
       "    </tr>\n",
       "  </tbody>\n",
       "</table>\n",
       "<p>54675 rows × 12 columns</p>\n",
       "</div>"
      ],
      "text/plain": [
       "                                            GSM559689  GSM559690  GSM559691  \\\n",
       "ID_REF          Gene Symbol ENTREZ_GENE_ID                                    \n",
       "1007_s_at       DDR1        780              4.946777   4.728418   4.738051   \n",
       "1053_at         RFC2        5982             8.207308   8.695805   8.383330   \n",
       "117_at          HSPA6       3310             6.311369   5.249919   5.953954   \n",
       "121_at          PAX8        7849             7.159099   7.062484   7.329124   \n",
       "1255_g_at       GUCA1A      2978             3.821799   3.603829   3.691750   \n",
       "...                                               ...        ...        ...   \n",
       "AFFX-ThrX-5_at  nan         nan              5.624310   5.326154   5.588887   \n",
       "AFFX-ThrX-M_at  nan         nan              6.589780   7.078883   7.219033   \n",
       "AFFX-TrpnX-3_at nan         nan              3.267483   3.231707   3.019570   \n",
       "AFFX-TrpnX-5_at nan         nan              4.053787   3.987323   4.081677   \n",
       "AFFX-TrpnX-M_at nan         nan              3.876738   3.476774   3.556572   \n",
       "\n",
       "                                            GSM559692  GSM559693  GSM559694  \\\n",
       "ID_REF          Gene Symbol ENTREZ_GENE_ID                                    \n",
       "1007_s_at       DDR1        780              4.762729   4.549447   4.835533   \n",
       "1053_at         RFC2        5982             8.049325   8.751171   8.381886   \n",
       "117_at          HSPA6       3310             5.532214   5.746198   6.212243   \n",
       "121_at          PAX8        7849             7.294014   7.006325   7.283475   \n",
       "1255_g_at       GUCA1A      2978             3.791226   3.654054   3.681459   \n",
       "...                                               ...        ...        ...   \n",
       "AFFX-ThrX-5_at  nan         nan              4.996499   5.471355   5.893110   \n",
       "AFFX-ThrX-M_at  nan         nan              6.143109   6.954125   7.585613   \n",
       "AFFX-TrpnX-3_at nan         nan              3.382046   3.186596   3.207259   \n",
       "AFFX-TrpnX-5_at nan         nan              4.059533   4.066915   3.950469   \n",
       "AFFX-TrpnX-M_at nan         nan              3.442913   3.548527   3.620951   \n",
       "\n",
       "                                            GSM559695  GSM559696  GSM559697  \\\n",
       "ID_REF          Gene Symbol ENTREZ_GENE_ID                                    \n",
       "1007_s_at       DDR1        780              4.709747   4.715527   5.049346   \n",
       "1053_at         RFC2        5982             7.992828   7.998183   7.401185   \n",
       "117_at          HSPA6       3310             6.870430   7.032106   7.295045   \n",
       "121_at          PAX8        7849             7.156998   7.201767   7.397696   \n",
       "1255_g_at       GUCA1A      2978             4.896534   4.008463   4.508532   \n",
       "...                                               ...        ...        ...   \n",
       "AFFX-ThrX-5_at  nan         nan              5.743403   5.517842   6.319863   \n",
       "AFFX-ThrX-M_at  nan         nan              7.354877   7.337199   8.222956   \n",
       "AFFX-TrpnX-3_at nan         nan              3.246196   3.197220   3.210587   \n",
       "AFFX-TrpnX-5_at nan         nan              4.126612   4.085597   4.139731   \n",
       "AFFX-TrpnX-M_at nan         nan              3.484449   3.488594   3.539413   \n",
       "\n",
       "                                            GSM559698  GSM559699  GSM559700  \n",
       "ID_REF          Gene Symbol ENTREZ_GENE_ID                                   \n",
       "1007_s_at       DDR1        780              5.631210   5.379607   5.397816  \n",
       "1053_at         RFC2        5982             5.444929   5.151547   5.207811  \n",
       "117_at          HSPA6       3310             7.667298   7.784505   8.278446  \n",
       "121_at          PAX8        7849             7.543862   7.869274   7.897521  \n",
       "1255_g_at       GUCA1A      2978             4.946233   3.765626   4.096830  \n",
       "...                                               ...        ...        ...  \n",
       "AFFX-ThrX-5_at  nan         nan              6.153024   6.339153   6.779153  \n",
       "AFFX-ThrX-M_at  nan         nan              7.808429   8.113187   8.420713  \n",
       "AFFX-TrpnX-3_at nan         nan              3.385809   3.295025   3.326088  \n",
       "AFFX-TrpnX-5_at nan         nan              4.164160   4.489268   4.432901  \n",
       "AFFX-TrpnX-M_at nan         nan              3.503881   3.897671   3.607952  \n",
       "\n",
       "[54675 rows x 12 columns]"
      ]
     },
     "execution_count": 86,
     "metadata": {},
     "output_type": "execute_result"
    }
   ],
   "source": [
    "# Task 1:\n",
    "phenotypes = gse.phenotype_data\n",
    "removed_data_sets = list(phenotypes[phenotypes['title'].str.contains('Uns_')].index.values)\n",
    "dataset_pre_processed = refined_merged_dataframe.drop(removed_data_sets, axis=1)\n",
    "dataset_pre_processed"
   ]
  },
  {
   "cell_type": "code",
   "execution_count": 87,
   "metadata": {},
   "outputs": [
    {
     "data": {
      "text/html": [
       "<div>\n",
       "<style scoped>\n",
       "    .dataframe tbody tr th:only-of-type {\n",
       "        vertical-align: middle;\n",
       "    }\n",
       "\n",
       "    .dataframe tbody tr th {\n",
       "        vertical-align: top;\n",
       "    }\n",
       "\n",
       "    .dataframe thead th {\n",
       "        text-align: right;\n",
       "    }\n",
       "</style>\n",
       "<table border=\"1\" class=\"dataframe\">\n",
       "  <thead>\n",
       "    <tr style=\"text-align: right;\">\n",
       "      <th></th>\n",
       "      <th>GSM559689</th>\n",
       "      <th>GSM559690</th>\n",
       "      <th>GSM559691</th>\n",
       "      <th>GSM559692</th>\n",
       "      <th>GSM559693</th>\n",
       "      <th>GSM559694</th>\n",
       "      <th>GSM559695</th>\n",
       "      <th>GSM559696</th>\n",
       "      <th>GSM559697</th>\n",
       "      <th>GSM559698</th>\n",
       "      <th>GSM559699</th>\n",
       "      <th>GSM559700</th>\n",
       "    </tr>\n",
       "  </thead>\n",
       "  <tbody>\n",
       "    <tr>\n",
       "      <th>count</th>\n",
       "      <td>54675.000000</td>\n",
       "      <td>54675.000000</td>\n",
       "      <td>54675.000000</td>\n",
       "      <td>54675.000000</td>\n",
       "      <td>54675.000000</td>\n",
       "      <td>54675.000000</td>\n",
       "      <td>54675.000000</td>\n",
       "      <td>54675.000000</td>\n",
       "      <td>54675.000000</td>\n",
       "      <td>54675.000000</td>\n",
       "      <td>54675.000000</td>\n",
       "      <td>54675.000000</td>\n",
       "    </tr>\n",
       "    <tr>\n",
       "      <th>mean</th>\n",
       "      <td>5.631351</td>\n",
       "      <td>5.645538</td>\n",
       "      <td>5.647177</td>\n",
       "      <td>5.643353</td>\n",
       "      <td>5.650497</td>\n",
       "      <td>5.646240</td>\n",
       "      <td>5.647751</td>\n",
       "      <td>5.648663</td>\n",
       "      <td>5.642804</td>\n",
       "      <td>5.641746</td>\n",
       "      <td>5.632729</td>\n",
       "      <td>5.627669</td>\n",
       "    </tr>\n",
       "    <tr>\n",
       "      <th>std</th>\n",
       "      <td>2.008718</td>\n",
       "      <td>2.151832</td>\n",
       "      <td>2.135346</td>\n",
       "      <td>2.050417</td>\n",
       "      <td>2.132387</td>\n",
       "      <td>2.122161</td>\n",
       "      <td>2.103597</td>\n",
       "      <td>2.102086</td>\n",
       "      <td>2.093149</td>\n",
       "      <td>1.956583</td>\n",
       "      <td>1.967552</td>\n",
       "      <td>1.983168</td>\n",
       "    </tr>\n",
       "    <tr>\n",
       "      <th>min</th>\n",
       "      <td>2.552829</td>\n",
       "      <td>2.592396</td>\n",
       "      <td>2.557528</td>\n",
       "      <td>2.570300</td>\n",
       "      <td>2.590768</td>\n",
       "      <td>2.624404</td>\n",
       "      <td>2.589117</td>\n",
       "      <td>2.613913</td>\n",
       "      <td>2.625990</td>\n",
       "      <td>2.648773</td>\n",
       "      <td>2.624857</td>\n",
       "      <td>2.552459</td>\n",
       "    </tr>\n",
       "    <tr>\n",
       "      <th>25%</th>\n",
       "      <td>4.068560</td>\n",
       "      <td>3.935353</td>\n",
       "      <td>3.958457</td>\n",
       "      <td>4.037548</td>\n",
       "      <td>3.958517</td>\n",
       "      <td>3.972916</td>\n",
       "      <td>3.986983</td>\n",
       "      <td>3.989839</td>\n",
       "      <td>4.001895</td>\n",
       "      <td>4.130462</td>\n",
       "      <td>4.149201</td>\n",
       "      <td>4.119190</td>\n",
       "    </tr>\n",
       "    <tr>\n",
       "      <th>50%</th>\n",
       "      <td>5.234648</td>\n",
       "      <td>5.099071</td>\n",
       "      <td>5.140122</td>\n",
       "      <td>5.176868</td>\n",
       "      <td>5.138922</td>\n",
       "      <td>5.147776</td>\n",
       "      <td>5.166742</td>\n",
       "      <td>5.164457</td>\n",
       "      <td>5.171306</td>\n",
       "      <td>5.283507</td>\n",
       "      <td>5.255295</td>\n",
       "      <td>5.253193</td>\n",
       "    </tr>\n",
       "    <tr>\n",
       "      <th>75%</th>\n",
       "      <td>6.701256</td>\n",
       "      <td>6.920745</td>\n",
       "      <td>6.851461</td>\n",
       "      <td>6.774580</td>\n",
       "      <td>6.859045</td>\n",
       "      <td>6.843637</td>\n",
       "      <td>6.819665</td>\n",
       "      <td>6.812792</td>\n",
       "      <td>6.800105</td>\n",
       "      <td>6.644484</td>\n",
       "      <td>6.557022</td>\n",
       "      <td>6.596745</td>\n",
       "    </tr>\n",
       "    <tr>\n",
       "      <th>max</th>\n",
       "      <td>14.290997</td>\n",
       "      <td>14.424771</td>\n",
       "      <td>14.416912</td>\n",
       "      <td>14.270190</td>\n",
       "      <td>14.423644</td>\n",
       "      <td>14.405221</td>\n",
       "      <td>14.518687</td>\n",
       "      <td>14.520131</td>\n",
       "      <td>14.548121</td>\n",
       "      <td>14.698327</td>\n",
       "      <td>14.614120</td>\n",
       "      <td>14.627485</td>\n",
       "    </tr>\n",
       "  </tbody>\n",
       "</table>\n",
       "</div>"
      ],
      "text/plain": [
       "          GSM559689     GSM559690     GSM559691     GSM559692     GSM559693  \\\n",
       "count  54675.000000  54675.000000  54675.000000  54675.000000  54675.000000   \n",
       "mean       5.631351      5.645538      5.647177      5.643353      5.650497   \n",
       "std        2.008718      2.151832      2.135346      2.050417      2.132387   \n",
       "min        2.552829      2.592396      2.557528      2.570300      2.590768   \n",
       "25%        4.068560      3.935353      3.958457      4.037548      3.958517   \n",
       "50%        5.234648      5.099071      5.140122      5.176868      5.138922   \n",
       "75%        6.701256      6.920745      6.851461      6.774580      6.859045   \n",
       "max       14.290997     14.424771     14.416912     14.270190     14.423644   \n",
       "\n",
       "          GSM559694     GSM559695     GSM559696     GSM559697     GSM559698  \\\n",
       "count  54675.000000  54675.000000  54675.000000  54675.000000  54675.000000   \n",
       "mean       5.646240      5.647751      5.648663      5.642804      5.641746   \n",
       "std        2.122161      2.103597      2.102086      2.093149      1.956583   \n",
       "min        2.624404      2.589117      2.613913      2.625990      2.648773   \n",
       "25%        3.972916      3.986983      3.989839      4.001895      4.130462   \n",
       "50%        5.147776      5.166742      5.164457      5.171306      5.283507   \n",
       "75%        6.843637      6.819665      6.812792      6.800105      6.644484   \n",
       "max       14.405221     14.518687     14.520131     14.548121     14.698327   \n",
       "\n",
       "          GSM559699     GSM559700  \n",
       "count  54675.000000  54675.000000  \n",
       "mean       5.632729      5.627669  \n",
       "std        1.967552      1.983168  \n",
       "min        2.624857      2.552459  \n",
       "25%        4.149201      4.119190  \n",
       "50%        5.255295      5.253193  \n",
       "75%        6.557022      6.596745  \n",
       "max       14.614120     14.627485  "
      ]
     },
     "execution_count": 87,
     "metadata": {},
     "output_type": "execute_result"
    }
   ],
   "source": [
    "# task 2:\n",
    "dataset_pre_processed.describe()"
   ]
  },
  {
   "cell_type": "code",
   "execution_count": 88,
   "metadata": {},
   "outputs": [
    {
     "data": {
      "text/plain": [
       "GSM559689    0\n",
       "GSM559690    0\n",
       "GSM559691    0\n",
       "GSM559692    0\n",
       "GSM559693    0\n",
       "GSM559694    0\n",
       "GSM559695    0\n",
       "GSM559696    0\n",
       "GSM559697    0\n",
       "GSM559698    0\n",
       "GSM559699    0\n",
       "GSM559700    0\n",
       "dtype: int64"
      ]
     },
     "execution_count": 88,
     "metadata": {},
     "output_type": "execute_result"
    }
   ],
   "source": [
    "# task 3:\n",
    "dataset_pre_processed.isna().sum()"
   ]
  },
  {
   "cell_type": "code",
   "execution_count": 118,
   "metadata": {},
   "outputs": [
    {
     "data": {
      "image/png": "[encoded data removed]",
      "text/plain": [
       "<Figure size 432x288 with 1 Axes>"
      ]
     },
     "metadata": {
      "needs_background": "light"
     },
     "output_type": "display_data"
    },
    {
     "data": {
      "image/png": "[encoded data removed]",
      "text/plain": [
       "<Figure size 432x288 with 1 Axes>"
      ]
     },
     "metadata": {
      "needs_background": "light"
     },
     "output_type": "display_data"
    },
    {
     "data": {
      "image/png": "[encoded data removed]",
      "text/plain": [
       "<Figure size 432x288 with 1 Axes>"
      ]
     },
     "metadata": {
      "needs_background": "light"
     },
     "output_type": "display_data"
    },
    {
     "data": {
      "image/png": "[encoded data removed]",
      "text/plain": [
       "<Figure size 432x288 with 1 Axes>"
      ]
     },
     "metadata": {
      "needs_background": "light"
     },
     "output_type": "display_data"
    },
    {
     "data": {
      "image/png": "[encoded data removed]",
      "text/plain": [
       "<Figure size 432x288 with 1 Axes>"
      ]
     },
     "metadata": {
      "needs_background": "light"
     },
     "output_type": "display_data"
    },
    {
     "data": {
      "image/png": "[encoded data removed]",
      "text/plain": [
       "<Figure size 432x288 with 1 Axes>"
      ]
     },
     "metadata": {
      "needs_background": "light"
     },
     "output_type": "display_data"
    },
    {
     "data": {
      "image/png": "[encoded data removed]",
      "text/plain": [
       "<Figure size 432x288 with 1 Axes>"
      ]
     },
     "metadata": {
      "needs_background": "light"
     },
     "output_type": "display_data"
    },
    {
     "data": {
      "image/png": "[encoded data removed]",
      "text/plain": [
       "<Figure size 432x288 with 1 Axes>"
      ]
     },
     "metadata": {
      "needs_background": "light"
     },
     "output_type": "display_data"
    },
    {
     "data": {
      "image/png": "[encoded data removed]",
      "text/plain": [
       "<Figure size 432x288 with 1 Axes>"
      ]
     },
     "metadata": {
      "needs_background": "light"
     },
     "output_type": "display_data"
    },
    {
     "data": {
      "image/png": "[encoded data removed]",
      "text/plain": [
       "<Figure size 432x288 with 1 Axes>"
      ]
     },
     "metadata": {
      "needs_background": "light"
     },
     "output_type": "display_data"
    },
    {
     "data": {
      "image/png": "[encoded data removed]",
      "text/plain": [
       "<Figure size 432x288 with 1 Axes>"
      ]
     },
     "metadata": {
      "needs_background": "light"
     },
     "output_type": "display_data"
    },
    {
     "data": {
      "image/png": "[encoded data removed]",
      "text/plain": [
       "<Figure size 432x288 with 1 Axes>"
      ]
     },
     "metadata": {
      "needs_background": "light"
     },
     "output_type": "display_data"
    }
   ],
   "source": [
    "# task 4:\n",
    "for col in dataset_pre_processed.columns:\n",
    "  plt.hist(x = dataset_pre_processed[col], bins = 14)\n",
    "  plt.xlabel('')\n",
    "  plt.show()"
   ]
  },
  {
   "cell_type": "code",
   "execution_count": null,
   "metadata": {},
   "outputs": [],
   "source": []
  }
 ],
 "metadata": {
  "interpreter": {
   "hash": "98590ff4fe04c8543246b2a01debd3de3c5ca9b666f43f1fa87d5110c692004c"
  },
  "kernelspec": {
   "display_name": "Python 3.10.4 64-bit",
   "language": "python",
   "name": "python3"
  },
  "language_info": {
   "codemirror_mode": {
    "name": "ipython",
    "version": 3
   },
   "file_extension": ".py",
   "mimetype": "text/x-python",
   "name": "python",
   "nbconvert_exporter": "python",
   "pygments_lexer": "ipython3",
   "version": "3.10.4"
  },
  "orig_nbformat": 4
 },
 "nbformat": 4,
 "nbformat_minor": 2
}
